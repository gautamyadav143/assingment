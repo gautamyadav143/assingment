{
 "cells": [
  {
   "cell_type": "code",
   "execution_count": 2,
   "id": "fb6723f2-f8d6-464f-bff2-c1951b917364",
   "metadata": {},
   "outputs": [],
   "source": [
    "l = [1,2,3,4,6,4,362,67554,\"devashish\" , \"pw skills\" , 435+53j , True , False , 534.3434 ]"
   ]
  },
  {
   "cell_type": "code",
   "execution_count": 3,
   "id": "69e9038e-6088-464a-81f0-d85dfcaf46a7",
   "metadata": {},
   "outputs": [
    {
     "data": {
      "text/plain": [
       "list"
      ]
     },
     "execution_count": 3,
     "metadata": {},
     "output_type": "execute_result"
    }
   ],
   "source": [
    "#Q1.\n",
    "#type(l)"
   ]
  },
  {
   "cell_type": "code",
   "execution_count": 17,
   "id": "13a25b12-4d60-4227-b475-d85211593c71",
   "metadata": {},
   "outputs": [],
   "source": [
    "#Q2.\n",
    "#var1='str'\n",
    "#var2 = 'str'\n",
    "#var3 = list []\n",
    "#var4 = int()"
   ]
  },
  {
   "cell_type": "code",
   "execution_count": 19,
   "id": "a39df8fa-229b-411d-ab88-a99975fc6643",
   "metadata": {},
   "outputs": [],
   "source": [
    "#Q3.\n",
    "# (i) This symbol is use for division operatprs . \n",
    "#(ii) This  symbol is  use for Modulas operator.\n",
    "#(iii)This symbol is use for division floor.\n",
    "#(iv)This symbol is use for  exponesial operators. "
   ]
  },
  {
   "cell_type": "code",
   "execution_count": 20,
   "id": "94d7663d-0a0d-452e-945a-7d26419ec2d5",
   "metadata": {},
   "outputs": [
    {
     "data": {
      "text/plain": [
       "0.8333333333333334"
      ]
     },
     "execution_count": 20,
     "metadata": {},
     "output_type": "execute_result"
    }
   ],
   "source": [
    "45/54"
   ]
  },
  {
   "cell_type": "code",
   "execution_count": 21,
   "id": "3b001005-f5e3-4f71-84a4-7cd50fea89ec",
   "metadata": {},
   "outputs": [
    {
     "data": {
      "text/plain": [
       "0.09975669099756691"
      ]
     },
     "execution_count": 21,
     "metadata": {},
     "output_type": "execute_result"
    }
   ],
   "source": [
    "533/5343"
   ]
  },
  {
   "cell_type": "code",
   "execution_count": 22,
   "id": "f62bde16-bcaf-488b-af10-f6e8dc7c8b02",
   "metadata": {},
   "outputs": [
    {
     "data": {
      "text/plain": [
       "1"
      ]
     },
     "execution_count": 22,
     "metadata": {},
     "output_type": "execute_result"
    }
   ],
   "source": [
    "5//3"
   ]
  },
  {
   "cell_type": "code",
   "execution_count": 23,
   "id": "b96c0721-345c-4e6a-8eca-d3a410f381ff",
   "metadata": {},
   "outputs": [
    {
     "data": {
      "text/plain": [
       "148877"
      ]
     },
     "execution_count": 23,
     "metadata": {},
     "output_type": "execute_result"
    }
   ],
   "source": [
    "53**3"
   ]
  },
  {
   "cell_type": "code",
   "execution_count": 24,
   "id": "1959ed9d-eaf9-40d0-8382-dce708df3eda",
   "metadata": {},
   "outputs": [],
   "source": [
    "d = [2,4,53,'devashish' , 'gautam yadav' , 534,34.53, 434+5j , True , False]"
   ]
  },
  {
   "cell_type": "code",
   "execution_count": 25,
   "id": "bf9a374b-7987-4f1d-a808-3ed52af1794e",
   "metadata": {},
   "outputs": [
    {
     "name": "stdout",
     "output_type": "stream",
     "text": [
      "<class 'list'>\n"
     ]
    }
   ],
   "source": [
    "print(type(a))"
   ]
  },
  {
   "cell_type": "code",
   "execution_count": null,
   "id": "7c59c5ce-ec4c-405d-b876-f1024bf716ca",
   "metadata": {},
   "outputs": [],
   "source": [
    "a= 8\n",
    "b=2\n",
    "while a/b:\n",
    "    print('how many times ir can be divisible')\n"
   ]
  },
  {
   "cell_type": "code",
   "execution_count": null,
   "id": "bbb0c445-4fd5-4683-8cd3-3b5deb69cf44",
   "metadata": {},
   "outputs": [],
   "source": [
    "a= 25\n",
    "if a>/2:\n",
    "    print('yes a is divisible by 2')\n",
    "else a>/3:\n",
    "    print('yes a is divisible by 3')"
   ]
  },
  {
   "cell_type": "code",
   "execution_count": null,
   "id": "32de4a10-e26b-463f-ab02-cb76bbae6bcb",
   "metadata": {},
   "outputs": [],
   "source": [
    "#Q6.25 can't divisible by 3"
   ]
  },
  {
   "cell_type": "code",
   "execution_count": null,
   "id": "618a03d5-2537-4002-8294-0dd3975f8547",
   "metadata": {},
   "outputs": [],
   "source": [
    "#Q7.\n",
    "#mutable data type - mutable data types are that data types which can be modified .\n",
    "#immutable data type - immutable data types are that data types which can't be modified."
   ]
  },
  {
   "cell_type": "code",
   "execution_count": null,
   "id": "a068e8a8-f222-4ef3-aabc-8c7386e5e8ea",
   "metadata": {},
   "outputs": [],
   "source": []
  }
 ],
 "metadata": {
  "kernelspec": {
   "display_name": "Python 3 (ipykernel)",
   "language": "python",
   "name": "python3"
  },
  "language_info": {
   "codemirror_mode": {
    "name": "ipython",
    "version": 3
   },
   "file_extension": ".py",
   "mimetype": "text/x-python",
   "name": "python",
   "nbconvert_exporter": "python",
   "pygments_lexer": "ipython3",
   "version": "3.10.8"
  }
 },
 "nbformat": 4,
 "nbformat_minor": 5
}
